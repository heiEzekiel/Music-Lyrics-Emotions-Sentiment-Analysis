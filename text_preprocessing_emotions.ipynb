{
 "cells": [
  {
   "cell_type": "code",
   "execution_count": 1,
   "id": "45ff3897",
   "metadata": {},
   "outputs": [],
   "source": [
    "# Basic Imports\n",
    "import os, warnings, openpyxl\n",
    "import nltk\n",
    "import numpy as np \n",
    "import pandas as pd \n",
    "import seaborn as sns\n",
    "import matplotlib.pyplot as plt \n",
    "from mpl_toolkits.mplot3d import Axes3D\n",
    "from sklearn.preprocessing import StandardScaler\n",
    "from collections import defaultdict\n",
    "\n",
    "# Data preparation and text-preprocessing\n",
    "import inflect, contractions, re, string, unicodedata, spacy\n",
    "from bs4 import BeautifulSoup\n",
    "from sklearn.preprocessing import LabelEncoder\n",
    "from sklearn.model_selection import train_test_split\n",
    "from nltk import word_tokenize, sent_tokenize\n",
    "from nltk.corpus import stopwords\n",
    "from nltk.corpus import wordnet as wn\n",
    "from nltk.stem.wordnet import WordNetLemmatizer\n",
    "from nltk.stem import LancasterStemmer\n",
    "# from nltk.stem import WordNetLemmatizerd\n",
    "\n",
    "warnings.filterwarnings(\"ignore\")\n",
    "\n",
    "data_dir = os.path.join(os.getcwd(), \"Dataset\")"
   ]
  },
  {
   "cell_type": "code",
   "execution_count": 2,
   "id": "69b7ad86",
   "metadata": {},
   "outputs": [
    {
     "data": {
      "text/plain": [
       "True"
      ]
     },
     "execution_count": 2,
     "metadata": {},
     "output_type": "execute_result"
    }
   ],
   "source": [
    "nltk.download('all', quiet=True)\n",
    "nltk.download('wordnet', quiet=True)"
   ]
  },
  {
   "cell_type": "markdown",
   "id": "b4314901",
   "metadata": {},
   "source": [
    "### Training Datasets"
   ]
  },
  {
   "cell_type": "code",
   "execution_count": 3,
   "id": "98282c30",
   "metadata": {},
   "outputs": [],
   "source": [
    "#3 Datasets\n",
    "tweets_df = pd.read_csv(os.path.join(data_dir,'Tweets_Emotions.csv'))\n",
    "emotions_df = pd.read_csv(os.path.join(data_dir, 'Emotions_from_text.csv'))\n",
    "sentiment_df = pd.read_csv(os.path.join(data_dir,\"Sentiment_140.csv\"), names=[\"sentiment\", \"id\", 'date',\"query\", \"user\", \"content\"])"
   ]
  },
  {
   "cell_type": "code",
   "execution_count": 4,
   "id": "e660d65d",
   "metadata": {},
   "outputs": [
    {
     "name": "stdout",
     "output_type": "stream",
     "text": [
      "Tweets dataset\n",
      " tweet_id     0\n",
      "sentiment    0\n",
      "content      0\n",
      "dtype: int64 \n",
      "\n",
      "Emotions dataset\n",
      " Text       0\n",
      "Emotion    0\n",
      "dtype: int64 \n",
      "\n",
      "Sentiment\n",
      " sentiment    0\n",
      "id           0\n",
      "date         0\n",
      "query        0\n",
      "user         0\n",
      "content      0\n",
      "dtype: int64 \n",
      "\n"
     ]
    }
   ],
   "source": [
    "#Check for null values\n",
    "print(\"Tweets dataset\\n\", tweets_df.isnull().sum(),\"\\n\")\n",
    "print(\"Emotions dataset\\n\", emotions_df.isnull().sum(),\"\\n\")\n",
    "print(\"Sentiment\\n\", sentiment_df.isnull().sum(),\"\\n\")"
   ]
  },
  {
   "cell_type": "code",
   "execution_count": 5,
   "id": "3e876fb4",
   "metadata": {},
   "outputs": [
    {
     "name": "stdout",
     "output_type": "stream",
     "text": [
      "Tweets dataset\n",
      " ['empty' 'sadness' 'enthusiasm' 'neutral' 'worry' 'surprise' 'love' 'fun'\n",
      " 'hate' 'happiness' 'boredom' 'relief' 'anger'] \n",
      "\n",
      "Emotions dataset\n",
      " ['sadness' 'anger' 'love' 'surprise' 'fear' 'happy'] \n",
      "\n",
      "Sentiment\n",
      " ['positive' 'negative' 'neutral'] \n",
      "\n"
     ]
    }
   ],
   "source": [
    "print(\"Tweets dataset\\n\",tweets_df[\"sentiment\"].unique(),\"\\n\")\n",
    "print(\"Emotions dataset\\n\",emotions_df[\"Emotion\"].unique(),\"\\n\")\n",
    "def sentiments_df3(val):\n",
    "    if val==0:\n",
    "        return 'negative'\n",
    "    elif val == 2:\n",
    "        return 'neutral'\n",
    "    elif val==4:\n",
    "        return 'positive'\n",
    "\n",
    "sentiment_df[\"sentiment\"] = sentiment_df[\"sentiment\"].apply(sentiments_df3)\n",
    "print(\"Sentiment\\n\", sentiment_df[\"sentiment\"].unique(),\"\\n\")"
   ]
  },
  {
   "cell_type": "code",
   "execution_count": 6,
   "id": "5ed05453",
   "metadata": {},
   "outputs": [],
   "source": [
    "#Removing unwanted columns\n",
    "tweets_df.drop([\"tweet_id\"], axis=1, inplace=True)\n",
    "tweets_df.drop(tweets_df.loc[tweets_df['sentiment']=='surprise'].index, inplace=True)\n",
    "emotions_df.drop(emotions_df.loc[emotions_df['Emotion']=='surprise'].index, inplace=True)\n",
    "sentiment_df.drop([\"id\", \"date\", \"query\", \"user\"], axis=1, inplace=True)\n",
    "\n",
    "#Standardizing the sentiment column naming\n",
    "emotions_df.rename(columns={\"Emotion\":\"sentiment\"}, inplace=True)\n",
    "emotions_df.rename(columns={\"Text\":\"content\"}, inplace=True)"
   ]
  },
  {
   "cell_type": "code",
   "execution_count": 7,
   "id": "a445f826",
   "metadata": {},
   "outputs": [],
   "source": [
    "#Since we are trying to use emotins instead of sentiments, we will not use the sentiment_df\n",
    "#Combining all the datasets\n",
    "combined_df = pd.concat([tweets_df, emotions_df], ignore_index=True)"
   ]
  },
  {
   "cell_type": "code",
   "execution_count": 8,
   "id": "4810548f",
   "metadata": {},
   "outputs": [
    {
     "data": {
      "text/html": [
       "<div>\n",
       "<style scoped>\n",
       "    .dataframe tbody tr th:only-of-type {\n",
       "        vertical-align: middle;\n",
       "    }\n",
       "\n",
       "    .dataframe tbody tr th {\n",
       "        vertical-align: top;\n",
       "    }\n",
       "\n",
       "    .dataframe thead th {\n",
       "        text-align: right;\n",
       "    }\n",
       "</style>\n",
       "<table border=\"1\" class=\"dataframe\">\n",
       "  <thead>\n",
       "    <tr style=\"text-align: right;\">\n",
       "      <th></th>\n",
       "      <th>sentiment</th>\n",
       "      <th>content</th>\n",
       "    </tr>\n",
       "  </thead>\n",
       "  <tbody>\n",
       "    <tr>\n",
       "      <th>0</th>\n",
       "      <td>empty</td>\n",
       "      <td>@tiffanylue i know  i was listenin to bad habi...</td>\n",
       "    </tr>\n",
       "    <tr>\n",
       "      <th>1</th>\n",
       "      <td>sadness</td>\n",
       "      <td>Layin n bed with a headache  ughhhh...waitin o...</td>\n",
       "    </tr>\n",
       "    <tr>\n",
       "      <th>2</th>\n",
       "      <td>sadness</td>\n",
       "      <td>Funeral ceremony...gloomy friday...</td>\n",
       "    </tr>\n",
       "    <tr>\n",
       "      <th>3</th>\n",
       "      <td>enthusiasm</td>\n",
       "      <td>wants to hang out with friends SOON!</td>\n",
       "    </tr>\n",
       "    <tr>\n",
       "      <th>4</th>\n",
       "      <td>neutral</td>\n",
       "      <td>@dannycastillo We want to trade with someone w...</td>\n",
       "    </tr>\n",
       "  </tbody>\n",
       "</table>\n",
       "</div>"
      ],
      "text/plain": [
       "    sentiment                                            content\n",
       "0       empty  @tiffanylue i know  i was listenin to bad habi...\n",
       "1     sadness  Layin n bed with a headache  ughhhh...waitin o...\n",
       "2     sadness                Funeral ceremony...gloomy friday...\n",
       "3  enthusiasm               wants to hang out with friends SOON!\n",
       "4     neutral  @dannycastillo We want to trade with someone w..."
      ]
     },
     "execution_count": 8,
     "metadata": {},
     "output_type": "execute_result"
    }
   ],
   "source": [
    "combined_df.head()"
   ]
  },
  {
   "cell_type": "code",
   "execution_count": 9,
   "id": "ab48a1ac",
   "metadata": {},
   "outputs": [
    {
     "data": {
      "text/plain": [
       "array(['negative', 'positive'], dtype=object)"
      ]
     },
     "execution_count": 9,
     "metadata": {},
     "output_type": "execute_result"
    }
   ],
   "source": [
    "#Classify the sentiment into positive and negative\n",
    "def generalise_sentiment(text):\n",
    "    if text=='love' or text=='positive' or text=='enthusiasm' or text =='surprise' or text=='fun 'or text=='happy' or text == 'happiness' or text=='relief':\n",
    "        return 'positive'\n",
    "    else:\n",
    "        return 'negative'\n",
    "\n",
    "combined_df[\"sentiment\"] = combined_df[\"sentiment\"].apply(generalise_sentiment)\n",
    "combined_df[\"sentiment\"].unique()"
   ]
  },
  {
   "cell_type": "code",
   "execution_count": 9,
   "id": "e3ada0be",
   "metadata": {},
   "outputs": [
    {
     "data": {
      "text/plain": [
       "sadness       11430\n",
       "neutral        8638\n",
       "worry          8459\n",
       "happy          7029\n",
       "love           5483\n",
       "happiness      5209\n",
       "anger          3103\n",
       "fear           2652\n",
       "fun            1776\n",
       "relief         1526\n",
       "hate           1323\n",
       "empty           827\n",
       "enthusiasm      759\n",
       "boredom         179\n",
       "Name: sentiment, dtype: int64"
      ]
     },
     "execution_count": 9,
     "metadata": {},
     "output_type": "execute_result"
    }
   ],
   "source": [
    "combined_df[\"sentiment\"].value_counts()"
   ]
  },
  {
   "cell_type": "code",
   "execution_count": 10,
   "id": "70034feb",
   "metadata": {},
   "outputs": [
    {
     "data": {
      "image/png": "[encoded data removed]",
      "text/plain": [
       "<Figure size 432x288 with 1 Axes>"
      ]
     },
     "metadata": {},
     "output_type": "display_data"
    }
   ],
   "source": [
    "fig = plt.figure()\n",
    "fig.patch.set_facecolor('white')\n",
    "plt.title(\"Sentiment Distribution\")\n",
    "plt.pie(combined_df[\"sentiment\"].value_counts(), labels=combined_df[\"sentiment\"].unique(), autopct='%1.1f%%')\n",
    "plt.show()"
   ]
  },
  {
   "cell_type": "code",
   "execution_count": 12,
   "id": "d8157d7a",
   "metadata": {},
   "outputs": [],
   "source": [
    "combined_df[\"char_len\"] = combined_df[\"content\"].apply(lambda x: len(x))\n",
    "combined_df[\"token_len\"] = combined_df[\"content\"].apply(lambda x: len(x.split(\" \")))"
   ]
  },
  {
   "cell_type": "code",
   "execution_count": 13,
   "id": "41eedd05",
   "metadata": {},
   "outputs": [
    {
     "name": "stderr",
     "output_type": "stream",
     "text": [
      "c:\\Users\\ezeki\\AppData\\Local\\Programs\\Python\\Python310\\lib\\site-packages\\seaborn\\distributions.py:2619: FutureWarning: `distplot` is a deprecated function and will be removed in a future version. Please adapt your code to use either `displot` (a figure-level function with similar flexibility) or `histplot` (an axes-level function for histograms).\n",
      "  warnings.warn(msg, FutureWarning)\n",
      "c:\\Users\\ezeki\\AppData\\Local\\Programs\\Python\\Python310\\lib\\site-packages\\seaborn\\distributions.py:2619: FutureWarning: `distplot` is a deprecated function and will be removed in a future version. Please adapt your code to use either `displot` (a figure-level function with similar flexibility) or `histplot` (an axes-level function for histograms).\n",
      "  warnings.warn(msg, FutureWarning)\n"
     ]
    },
    {
     "data": {
      "image/png": "[encoded data removed]",
      "text/plain": [
       "<Figure size 864x432 with 2 Axes>"
      ]
     },
     "metadata": {
      "needs_background": "light"
     },
     "output_type": "display_data"
    }
   ],
   "source": [
    "fig, (ax1, ax2)  = plt.subplots(nrows=1, ncols=2, figsize=(12,6))\n",
    "sns.distplot(combined_df['char_len'], ax=ax1)\n",
    "sns.distplot(combined_df['token_len'], ax=ax2)\n",
    "ax1.set_title('Number of characters in the tweet')\n",
    "ax2.set_title('Number of token(words) in the tweet')\n",
    "plt.show()"
   ]
  },
  {
   "cell_type": "code",
   "execution_count": 14,
   "id": "4f5a20d7",
   "metadata": {},
   "outputs": [],
   "source": [
    "mean_df = combined_df.groupby(\"sentiment\").agg({\"char_len\":\"mean\", \"token_len\":\"mean\"})"
   ]
  },
  {
   "cell_type": "code",
   "execution_count": 15,
   "id": "e074d4d0",
   "metadata": {},
   "outputs": [
    {
     "name": "stderr",
     "output_type": "stream",
     "text": [
      "C:\\Users\\ezeki\\AppData\\Local\\Temp\\ipykernel_11640\\2646245128.py:6: UserWarning: FixedFormatter should only be used together with FixedLocator\n",
      "  ax1.set_xticklabels(mean_df.index, rotation = 45)\n",
      "C:\\Users\\ezeki\\AppData\\Local\\Temp\\ipykernel_11640\\2646245128.py:7: UserWarning: FixedFormatter should only be used together with FixedLocator\n",
      "  ax2.set_xticklabels(mean_df.index, rotation = 45)\n"
     ]
    },
    {
     "data": {
      "image/png": "[encoded data removed]",
      "text/plain": [
       "<Figure size 1152x432 with 2 Axes>"
      ]
     },
     "metadata": {
      "needs_background": "light"
     },
     "output_type": "display_data"
    }
   ],
   "source": [
    "fig, (ax1, ax2)  = plt.subplots(nrows=1, ncols=2, figsize=(16,6))\n",
    "ax1.bar(mean_df.index, mean_df['char_len'])\n",
    "ax2.bar(mean_df.index, mean_df['token_len'], color='green')\n",
    "ax1.set_title('Mean number of characters')\n",
    "ax2.set_title('Mean number of token(words)')\n",
    "ax1.set_xticklabels(mean_df.index, rotation = 45)\n",
    "ax2.set_xticklabels(mean_df.index, rotation = 45)\n",
    "plt.show()"
   ]
  },
  {
   "cell_type": "markdown",
   "id": "1d94a8e2",
   "metadata": {},
   "source": [
    "## Text Pre-Processing Function"
   ]
  },
  {
   "cell_type": "code",
   "execution_count": 11,
   "id": "45ce2792",
   "metadata": {},
   "outputs": [],
   "source": [
    "def text_preprocessing_platform(df, text_col, remove_stopwords=True):\n",
    "    ## Define functions for individual steps\n",
    "    # First function is used to denoise text\n",
    "    def denoise_text(text):\n",
    "        # Strip html if any. For ex. removing <html>, <p> tags\n",
    "        soup = BeautifulSoup(text, \"html.parser\")\n",
    "        text = soup.get_text()\n",
    "        # Replace contractions in the text. For ex. didn't -> did not\n",
    "        text = contractions.fix(text)\n",
    "        return text\n",
    "    \n",
    "    def remove_non_ascii(words):\n",
    "        \"\"\"Remove non-ASCII characters from list of tokenized words\"\"\"\n",
    "        new_words = []\n",
    "        for word in words:\n",
    "            new_word = unicodedata.normalize('NFKD', word).encode('ascii', 'ignore').decode('utf-8', 'ignore')\n",
    "            new_words.append(new_word)\n",
    "        return new_words\n",
    "    \n",
    "    def to_lowercase(words):\n",
    "        \"\"\"Convert all characters to lowercase from list of tokenized words\"\"\"\n",
    "        new_words = []\n",
    "        for word in words:\n",
    "            new_word = word.lower()\n",
    "            new_words.append(new_word)\n",
    "        return new_words\n",
    "    \n",
    "    def remove_punctuation(words):\n",
    "        \"\"\"Remove punctuation from list of tokenized words\"\"\"\n",
    "        new_words = []\n",
    "        for word in words:\n",
    "            new_word = re.sub(r'[^\\w\\s]', '', word)\n",
    "            if new_word != '':\n",
    "                new_words.append(new_word)\n",
    "        return new_words\n",
    "    \n",
    "    def replace_numbers(words):\n",
    "        \"\"\"Replace all interger occurrences in list of tokenized words with textual representation\"\"\"\n",
    "        p = inflect.engine()\n",
    "        new_words = []\n",
    "        for word in words:\n",
    "            if word.isdigit():\n",
    "                new_word = p.number_to_words(word)\n",
    "                new_words.append(new_word)\n",
    "            else:\n",
    "                new_words.append(word)\n",
    "        return new_words\n",
    "    \n",
    "    def remove_stopwords(words):\n",
    "        \"\"\"Remove stop words from list of tokenized words\"\"\"\n",
    "        new_words = []\n",
    "        for word in words:\n",
    "            if word not in stopwords.words('english'):\n",
    "                new_words.append(word)\n",
    "        return new_words\n",
    "    \n",
    "    def stem_words(words):\n",
    "        \"\"\"Stem words in list of tokenized words\"\"\"\n",
    "        stemmer = LancasterStemmer()\n",
    "        stems = []\n",
    "        for word in words:\n",
    "            stem = stemmer.stem(word)\n",
    "            stems.append(stem)\n",
    "        return stems\n",
    "    \n",
    "    def lemmatize_verbs(words):\n",
    "        \"\"\"Lemmatize verbs in list of tokenized words\"\"\"\n",
    "        lemmatizer = WordNetLemmatizer()\n",
    "        lemmas = []\n",
    "        for word in words:\n",
    "            lemma = lemmatizer.lemmatize(word, pos='v')\n",
    "            lemmas.append(lemma)\n",
    "        return lemmas\n",
    "    \n",
    "    ### A wrap-up function for normalization\n",
    "    def normalize_text(words, remove_stopwords):\n",
    "        words = remove_non_ascii(words)\n",
    "        words = to_lowercase(words)\n",
    "        words = remove_punctuation(words)\n",
    "        words = replace_numbers(words)\n",
    "        if remove_stopwords:\n",
    "            words = remove_stopwords(words)\n",
    "        #words = stem_words(words)\n",
    "        words = lemmatize_verbs(words)\n",
    "        return words\n",
    "\n",
    "    # Tokenize tweet into words\n",
    "    def tokenize(text):\n",
    "        return nltk.word_tokenize(text)\n",
    "\n",
    "    # A overall wrap-up function\n",
    "    def text_prepare(text):\n",
    "        text = denoise_text(text)\n",
    "        text = ' '.join([x for x in normalize_text(tokenize(text), remove_stopwords)])\n",
    "        return text\n",
    "    \n",
    "    # run every-step\n",
    "    df[text_col] = [text_prepare(x) for x in df[text_col]]\n",
    "\n",
    "    # return processed df\n",
    "    return df"
   ]
  },
  {
   "cell_type": "code",
   "execution_count": 12,
   "id": "ada68c46",
   "metadata": {},
   "outputs": [
    {
     "name": "stdout",
     "output_type": "stream",
     "text": [
      "Before Text Preprocessing\n"
     ]
    },
    {
     "data": {
      "text/html": [
       "<div>\n",
       "<style scoped>\n",
       "    .dataframe tbody tr th:only-of-type {\n",
       "        vertical-align: middle;\n",
       "    }\n",
       "\n",
       "    .dataframe tbody tr th {\n",
       "        vertical-align: top;\n",
       "    }\n",
       "\n",
       "    .dataframe thead th {\n",
       "        text-align: right;\n",
       "    }\n",
       "</style>\n",
       "<table border=\"1\" class=\"dataframe\">\n",
       "  <thead>\n",
       "    <tr style=\"text-align: right;\">\n",
       "      <th></th>\n",
       "      <th>content</th>\n",
       "    </tr>\n",
       "  </thead>\n",
       "  <tbody>\n",
       "    <tr>\n",
       "      <th>48227</th>\n",
       "      <td>im feeling and i say useless and he says that ...</td>\n",
       "    </tr>\n",
       "    <tr>\n",
       "      <th>22039</th>\n",
       "      <td>@joshroyse Josh  Excuse me, but, at what time ...</td>\n",
       "    </tr>\n",
       "    <tr>\n",
       "      <th>34427</th>\n",
       "      <td>@pcsketch I'm considering buying one of these....</td>\n",
       "    </tr>\n",
       "    <tr>\n",
       "      <th>18693</th>\n",
       "      <td>@Candyland3 thats terrible.</td>\n",
       "    </tr>\n",
       "    <tr>\n",
       "      <th>42637</th>\n",
       "      <td>i would feel very ungrateful if i didnt thank ...</td>\n",
       "    </tr>\n",
       "  </tbody>\n",
       "</table>\n",
       "</div>"
      ],
      "text/plain": [
       "                                                 content\n",
       "48227  im feeling and i say useless and he says that ...\n",
       "22039  @joshroyse Josh  Excuse me, but, at what time ...\n",
       "34427  @pcsketch I'm considering buying one of these....\n",
       "18693                        @Candyland3 thats terrible.\n",
       "42637  i would feel very ungrateful if i didnt thank ..."
      ]
     },
     "metadata": {},
     "output_type": "display_data"
    },
    {
     "name": "stderr",
     "output_type": "stream",
     "text": [
      "c:\\Users\\ezeki\\AppData\\Local\\Programs\\Python\\Python310\\lib\\site-packages\\bs4\\__init__.py:435: MarkupResemblesLocatorWarning: The input looks more like a filename than markup. You may want to open this file and pass the filehandle into Beautiful Soup.\n",
      "  warnings.warn(\n"
     ]
    },
    {
     "name": "stdout",
     "output_type": "stream",
     "text": [
      "After Text Preprocessing\n"
     ]
    },
    {
     "data": {
      "text/html": [
       "<div>\n",
       "<style scoped>\n",
       "    .dataframe tbody tr th:only-of-type {\n",
       "        vertical-align: middle;\n",
       "    }\n",
       "\n",
       "    .dataframe tbody tr th {\n",
       "        vertical-align: top;\n",
       "    }\n",
       "\n",
       "    .dataframe thead th {\n",
       "        text-align: right;\n",
       "    }\n",
       "</style>\n",
       "<table border=\"1\" class=\"dataframe\">\n",
       "  <thead>\n",
       "    <tr style=\"text-align: right;\">\n",
       "      <th></th>\n",
       "      <th>content</th>\n",
       "    </tr>\n",
       "  </thead>\n",
       "  <tbody>\n",
       "    <tr>\n",
       "      <th>1181</th>\n",
       "      <td>almost everyone suck clit right people fuck</td>\n",
       "    </tr>\n",
       "    <tr>\n",
       "      <th>54168</th>\n",
       "      <td>really enjoy cabernet aggressive flavor tend e...</td>\n",
       "    </tr>\n",
       "    <tr>\n",
       "      <th>14249</th>\n",
       "      <td>santiaggo new yorker cover do iphone jealous o...</td>\n",
       "    </tr>\n",
       "    <tr>\n",
       "      <th>46945</th>\n",
       "      <td>feel like many years leave live content lay be...</td>\n",
       "    </tr>\n",
       "    <tr>\n",
       "      <th>6865</th>\n",
       "      <td>kujakupoet computer get screw hell viruses fin...</td>\n",
       "    </tr>\n",
       "  </tbody>\n",
       "</table>\n",
       "</div>"
      ],
      "text/plain": [
       "                                                 content\n",
       "1181         almost everyone suck clit right people fuck\n",
       "54168  really enjoy cabernet aggressive flavor tend e...\n",
       "14249  santiaggo new yorker cover do iphone jealous o...\n",
       "46945  feel like many years leave live content lay be...\n",
       "6865   kujakupoet computer get screw hell viruses fin..."
      ]
     },
     "metadata": {},
     "output_type": "display_data"
    }
   ],
   "source": [
    "# Running text preprocessing on the combined dataset\n",
    "print(\"Before Text Preprocessing\")\n",
    "display(combined_df.sample(5)[['content']])\n",
    "\n",
    "processed_df = text_preprocessing_platform(combined_df, 'content', remove_stopwords=False)\n",
    "\n",
    "print(\"After Text Preprocessing\")\n",
    "display(processed_df.sample(5)[['content']])"
   ]
  },
  {
   "cell_type": "code",
   "execution_count": 13,
   "id": "66aba275",
   "metadata": {},
   "outputs": [],
   "source": [
    "# Save the processed dataframe\n",
    "processed_df.to_csv(os.path.join(data_dir,\"emotions_processed_df.csv\"), index=False)\n"
   ]
  },
  {
   "cell_type": "code",
   "execution_count": 14,
   "id": "59e58837",
   "metadata": {},
   "outputs": [
    {
     "data": {
      "text/html": [
       "<div>\n",
       "<style scoped>\n",
       "    .dataframe tbody tr th:only-of-type {\n",
       "        vertical-align: middle;\n",
       "    }\n",
       "\n",
       "    .dataframe tbody tr th {\n",
       "        vertical-align: top;\n",
       "    }\n",
       "\n",
       "    .dataframe thead th {\n",
       "        text-align: right;\n",
       "    }\n",
       "</style>\n",
       "<table border=\"1\" class=\"dataframe\">\n",
       "  <thead>\n",
       "    <tr style=\"text-align: right;\">\n",
       "      <th></th>\n",
       "      <th>sentiment</th>\n",
       "      <th>content</th>\n",
       "    </tr>\n",
       "  </thead>\n",
       "  <tbody>\n",
       "    <tr>\n",
       "      <th>9016</th>\n",
       "      <td>worry</td>\n",
       "      <td>sfwa article language group spaceports look re...</td>\n",
       "    </tr>\n",
       "    <tr>\n",
       "      <th>17039</th>\n",
       "      <td>worry</td>\n",
       "      <td>o_0robertpatt</td>\n",
       "    </tr>\n",
       "    <tr>\n",
       "      <th>38612</th>\n",
       "      <td>happy</td>\n",
       "      <td>proud craft something people care even enough ...</td>\n",
       "    </tr>\n",
       "    <tr>\n",
       "      <th>24708</th>\n",
       "      <td>fun</td>\n",
       "      <td>aww sunshine life bob larry sing 70s make thin...</td>\n",
       "    </tr>\n",
       "    <tr>\n",
       "      <th>48854</th>\n",
       "      <td>happy</td>\n",
       "      <td>feel generous id treat friends dinner bbq home...</td>\n",
       "    </tr>\n",
       "  </tbody>\n",
       "</table>\n",
       "</div>"
      ],
      "text/plain": [
       "      sentiment                                            content\n",
       "9016      worry  sfwa article language group spaceports look re...\n",
       "17039     worry                                      o_0robertpatt\n",
       "38612     happy  proud craft something people care even enough ...\n",
       "24708       fun  aww sunshine life bob larry sing 70s make thin...\n",
       "48854     happy  feel generous id treat friends dinner bbq home..."
      ]
     },
     "execution_count": 14,
     "metadata": {},
     "output_type": "execute_result"
    }
   ],
   "source": [
    "processed_df.sample(5)"
   ]
  },
  {
   "cell_type": "markdown",
   "id": "bb65a0c7",
   "metadata": {},
   "source": [
    "### Can read processed text directly into dataframe"
   ]
  },
  {
   "cell_type": "code",
   "execution_count": 2,
   "id": "1c973ee4",
   "metadata": {},
   "outputs": [],
   "source": [
    "processed_df = pd.read_csv(os.path.join(data_dir,\"emotions_processed_df.csv\"))"
   ]
  },
  {
   "cell_type": "code",
   "execution_count": 3,
   "id": "7e7b664d",
   "metadata": {},
   "outputs": [
    {
     "data": {
      "text/plain": [
       "sentiment    0\n",
       "content      0\n",
       "dtype: int64"
      ]
     },
     "execution_count": 3,
     "metadata": {},
     "output_type": "execute_result"
    }
   ],
   "source": [
    "processed_df.dropna(inplace=True)\n",
    "processed_df.isnull().sum()"
   ]
  },
  {
   "cell_type": "code",
   "execution_count": 4,
   "id": "542151f6",
   "metadata": {},
   "outputs": [
    {
     "data": {
      "text/html": [
       "<div>\n",
       "<style scoped>\n",
       "    .dataframe tbody tr th:only-of-type {\n",
       "        vertical-align: middle;\n",
       "    }\n",
       "\n",
       "    .dataframe tbody tr th {\n",
       "        vertical-align: top;\n",
       "    }\n",
       "\n",
       "    .dataframe thead th {\n",
       "        text-align: right;\n",
       "    }\n",
       "</style>\n",
       "<table border=\"1\" class=\"dataframe\">\n",
       "  <thead>\n",
       "    <tr style=\"text-align: right;\">\n",
       "      <th></th>\n",
       "      <th>sentiment</th>\n",
       "      <th>content</th>\n",
       "    </tr>\n",
       "  </thead>\n",
       "  <tbody>\n",
       "    <tr>\n",
       "      <th>13092</th>\n",
       "      <td>happiness</td>\n",
       "      <td>nizhonipetphoto wannna go want go anywhere jersey</td>\n",
       "    </tr>\n",
       "    <tr>\n",
       "      <th>50189</th>\n",
       "      <td>happy</td>\n",
       "      <td>go room wait feel benevolent enough give pendant</td>\n",
       "    </tr>\n",
       "    <tr>\n",
       "      <th>41274</th>\n",
       "      <td>anger</td>\n",
       "      <td>feel quite rebellious actually</td>\n",
       "    </tr>\n",
       "    <tr>\n",
       "      <th>45169</th>\n",
       "      <td>happy</td>\n",
       "      <td>go see flag fly turkish school feel proud</td>\n",
       "    </tr>\n",
       "    <tr>\n",
       "      <th>43234</th>\n",
       "      <td>happy</td>\n",
       "      <td>feel ok kai take emotions feel today</td>\n",
       "    </tr>\n",
       "  </tbody>\n",
       "</table>\n",
       "</div>"
      ],
      "text/plain": [
       "       sentiment                                            content\n",
       "13092  happiness  nizhonipetphoto wannna go want go anywhere jersey\n",
       "50189      happy   go room wait feel benevolent enough give pendant\n",
       "41274      anger                     feel quite rebellious actually\n",
       "45169      happy          go see flag fly turkish school feel proud\n",
       "43234      happy               feel ok kai take emotions feel today"
      ]
     },
     "execution_count": 4,
     "metadata": {},
     "output_type": "execute_result"
    }
   ],
   "source": [
    "processed_df.sample(5)"
   ]
  },
  {
   "cell_type": "markdown",
   "id": "34b9424e",
   "metadata": {},
   "source": [
    "## Train Test Split"
   ]
  },
  {
   "cell_type": "code",
   "execution_count": 5,
   "id": "d17d725a",
   "metadata": {},
   "outputs": [],
   "source": [
    "from sklearn.preprocessing import LabelEncoder\n",
    "from sklearn.model_selection import train_test_split\n",
    "\n",
    "le = LabelEncoder()\n",
    "y = le.fit_transform(processed_df['sentiment'])\n",
    "X = processed_df.iloc[:,1:2]\n",
    "\n",
    "X_train,X_test,y_train,y_test = train_test_split(X,y,test_size=0.2,random_state=7)"
   ]
  },
  {
   "cell_type": "code",
   "execution_count": 6,
   "id": "3a8bdde9",
   "metadata": {},
   "outputs": [
    {
     "data": {
      "text/plain": [
       "'tiffanylue know listenin bad habit earlier start freakin part'"
      ]
     },
     "execution_count": 6,
     "metadata": {},
     "output_type": "execute_result"
    }
   ],
   "source": [
    "X_train['content'][0]"
   ]
  },
  {
   "cell_type": "code",
   "execution_count": 6,
   "id": "c9044f14",
   "metadata": {},
   "outputs": [],
   "source": [
    "from sklearn.feature_extraction.text import CountVectorizer\n",
    "cv = CountVectorizer()\n",
    "X_train_bow = cv.fit_transform(X_train['content']).toarray()\n",
    "X_test_bow = cv.transform(X_test['content']).toarray()"
   ]
  },
  {
   "cell_type": "code",
   "execution_count": 7,
   "id": "bd81c107",
   "metadata": {},
   "outputs": [],
   "source": [
    "import pickle\n",
    "pickle.dump(cv, open(\"cv (selected) emotions.pkl\", \"wb\"))"
   ]
  },
  {
   "cell_type": "code",
   "execution_count": 8,
   "id": "e92b52d8",
   "metadata": {},
   "outputs": [
    {
     "data": {
      "text/plain": [
       "(43346,)"
      ]
     },
     "execution_count": 8,
     "metadata": {},
     "output_type": "execute_result"
    }
   ],
   "source": [
    "X_test_bow[0].shape"
   ]
  },
  {
   "cell_type": "markdown",
   "id": "00970f01",
   "metadata": {},
   "source": [
    "## Logistic Regression "
   ]
  },
  {
   "cell_type": "markdown",
   "id": "bc1e5cc4",
   "metadata": {},
   "source": [
    "### One vs rest (OVR)"
   ]
  },
  {
   "cell_type": "code",
   "execution_count": 10,
   "id": "4a557c3b",
   "metadata": {},
   "outputs": [
    {
     "data": {
      "text/plain": [
       "LogisticRegression(C=1, multi_class='ovr')"
      ]
     },
     "execution_count": 10,
     "metadata": {},
     "output_type": "execute_result"
    }
   ],
   "source": [
    "from sklearn.linear_model import LogisticRegression\n",
    "lr = LogisticRegression(multi_class='ovr', C=1)\n",
    "lr.fit(X_train_bow,y_train)"
   ]
  },
  {
   "cell_type": "code",
   "execution_count": 21,
   "id": "4cc84be0",
   "metadata": {},
   "outputs": [],
   "source": [
    "lr = pickle.load(open(\"logistic_regression-ovr-c1_emotions.pkl\", \"rb\"))"
   ]
  },
  {
   "cell_type": "code",
   "execution_count": 22,
   "id": "29f4a537",
   "metadata": {},
   "outputs": [
    {
     "name": "stdout",
     "output_type": "stream",
     "text": [
      " Accuracy 0.5303\n",
      " Precision 0.5144 \n",
      " Recall 0.5303 \n",
      " F1 0.513\n"
     ]
    }
   ],
   "source": [
    "#ovr\n",
    "from sklearn.metrics import accuracy_score,confusion_matrix,f1_score, precision_score, recall_score\n",
    "y_pred = lr.predict(X_test_bow)\n",
    "lr_ovr_accuracy = round(accuracy_score(y_test,y_pred),4)\n",
    "lr_ovr_precision = round(precision_score(y_test,y_pred,average='weighted'),4)\n",
    "lr_ovr_recall = round(recall_score(y_test,y_pred,average='weighted'),4)\n",
    "lr_ovr_f1_score = round(f1_score(y_test,y_pred,average='weighted'),4)\n",
    "print(\" Accuracy\", lr_ovr_accuracy)\n",
    "print(\" Precision\",lr_ovr_precision,\"\\n\",\"Recall\",lr_ovr_recall,\"\\n\",\"F1\",lr_ovr_f1_score)\n",
    "#print(confusion_matrix(y_test, y_pred))\n",
    "# #Confusion Matrix\n",
    "# lr_ovr_tn, lr_ovr_fp, lr_ovr_fn, lr_ovr_tp = confusion_matrix(y_test, y_pred).ravel()\n",
    "\n",
    "# #measurements\n",
    "# lr_ovr_accuracy = (lr_ovr_tp+lr_ovr_tn)/(lr_ovr_tp+lr_ovr_tn+lr_ovr_fp+lr_ovr_fn)\n",
    "# print(\" Accuracy\", lr_ovr_accuracy)\n",
    "# lr_ovr_precision = lr_ovr_tp/(lr_ovr_tp+lr_ovr_fp)\n",
    "# lr_ovr_recall = lr_ovr_tp/(lr_ovr_tp+lr_ovr_fn)\n",
    "# lr_ovr_f1_score = (2*lr_ovr_precision)*(lr_ovr_recall)/(lr_ovr_precision+lr_ovr_recall)\n",
    "# print(\" Precision\",lr_ovr_precision,\"\\n\",\"Recall\",lr_ovr_recall,\"\\n\",\"F1\",lr_ovr_f1_score)"
   ]
  },
  {
   "cell_type": "code",
   "execution_count": 14,
   "id": "2da36860",
   "metadata": {},
   "outputs": [],
   "source": [
    "import pickle\n",
    "# save the model to disk\n",
    "filename = 'logistic_regression-ovr-c1_emotions.pkl'\n",
    "pickle.dump(lr, open(filename, 'wb'))"
   ]
  },
  {
   "cell_type": "code",
   "execution_count": 23,
   "id": "d66b0597",
   "metadata": {},
   "outputs": [
    {
     "data": {
      "text/plain": [
       "7"
      ]
     },
     "execution_count": 23,
     "metadata": {},
     "output_type": "execute_result"
    }
   ],
   "source": [
    "import gc\n",
    "del lr\n",
    "gc.collect()"
   ]
  },
  {
   "cell_type": "markdown",
   "id": "03f5ce43",
   "metadata": {},
   "source": [
    "### Multinomial"
   ]
  },
  {
   "cell_type": "code",
   "execution_count": 16,
   "id": "648fc3b5",
   "metadata": {},
   "outputs": [
    {
     "data": {
      "text/plain": [
       "LogisticRegression(C=1, multi_class='multinomial')"
      ]
     },
     "execution_count": 16,
     "metadata": {},
     "output_type": "execute_result"
    }
   ],
   "source": [
    "from sklearn.linear_model import LogisticRegression\n",
    "lr = LogisticRegression(multi_class='multinomial', C=1)\n",
    "lr.fit(X_train_bow,y_train)"
   ]
  },
  {
   "cell_type": "code",
   "execution_count": 18,
   "id": "a5174dab",
   "metadata": {},
   "outputs": [
    {
     "name": "stdout",
     "output_type": "stream",
     "text": [
      " Accuracy 0.5223\n",
      " Precision 0.5083 \n",
      " Recall 0.5223 \n",
      " F1 0.5076\n"
     ]
    }
   ],
   "source": [
    "#multinomial\n",
    "from sklearn.metrics import accuracy_score,confusion_matrix,f1_score, precision_score, recall_score\n",
    "y_pred = lr.predict(X_test_bow)\n",
    "lr_mn_accuracy = round(accuracy_score(y_test,y_pred),4)\n",
    "lr_mn_precision = round(precision_score(y_test,y_pred,average='weighted'),4)\n",
    "lr_mn_recall = round(recall_score(y_test,y_pred,average='weighted'),4)\n",
    "lr_mn_f1_score = round(f1_score(y_test,y_pred,average='weighted'),4)\n",
    "print(\" Accuracy\", lr_mn_accuracy)\n",
    "print(\" Precision\",lr_mn_precision,\"\\n\",\"Recall\",lr_mn_recall,\"\\n\",\"F1\",lr_mn_f1_score)\n",
    "\n",
    "# #Confusion Matrix\n",
    "# lr_mn_tn, lr_mn_fp, lr_mn_fn, lr_mn_tp = confusion_matrix(y_test, y_pred).ravel()\n",
    "\n",
    "# #measurements\n",
    "# lr_mn_accuracy = (lr_mn_tp+lr_mn_tn)/(lr_mn_tp+lr_mn_tn+lr_mn_fp+lr_mn_fn)\n",
    "# print(\" Accuracy\", lr_mn_accuracy)\n",
    "# lr_mn_precision = lr_mn_tp/(lr_mn_tp+lr_mn_fp)\n",
    "# lr_mn_recall = lr_mn_tp/(lr_mn_tp+lr_mn_fn)\n",
    "# lr_mn_f1_score = (2*lr_mn_precision)*(lr_mn_recall)/(lr_mn_precision+lr_mn_recall)\n",
    "# print(\" Precision\",lr_mn_precision,\"\\n\",\"Recall\",lr_mn_recall,\"\\n\",\"F1\",lr_mn_f1_score)"
   ]
  },
  {
   "cell_type": "code",
   "execution_count": 19,
   "id": "e90525b3",
   "metadata": {},
   "outputs": [],
   "source": [
    "import pickle\n",
    "# save the model to disk\n",
    "filename = 'logistic_regression-multinomial-c1_emotions.pkl'\n",
    "pickle.dump(lr, open(filename, 'wb'))"
   ]
  },
  {
   "cell_type": "code",
   "execution_count": 20,
   "id": "df82e9bf",
   "metadata": {},
   "outputs": [
    {
     "data": {
      "text/plain": [
       "55"
      ]
     },
     "execution_count": 20,
     "metadata": {},
     "output_type": "execute_result"
    }
   ],
   "source": [
    "import gc\n",
    "del lr\n",
    "gc.collect()"
   ]
  },
  {
   "cell_type": "markdown",
   "id": "d1f4258f",
   "metadata": {},
   "source": [
    "## Naive Bayes"
   ]
  },
  {
   "cell_type": "code",
   "execution_count": 24,
   "id": "d2e0d4f7",
   "metadata": {},
   "outputs": [
    {
     "data": {
      "text/plain": [
       "MultinomialNB()"
      ]
     },
     "execution_count": 24,
     "metadata": {},
     "output_type": "execute_result"
    }
   ],
   "source": [
    "from sklearn.naive_bayes import MultinomialNB\n",
    "mnb = MultinomialNB()\n",
    "mnb.fit(X_train_bow,y_train)"
   ]
  },
  {
   "cell_type": "code",
   "execution_count": 26,
   "id": "c7c25db5",
   "metadata": {},
   "outputs": [
    {
     "name": "stdout",
     "output_type": "stream",
     "text": [
      " Accuracy 0.4239\n",
      " Precision 0.413 \n",
      " Recall 0.4239 \n",
      " F1 0.384\n"
     ]
    }
   ],
   "source": [
    "from sklearn.metrics import accuracy_score,confusion_matrix,f1_score, precision_score, recall_score\n",
    "y_pred = mnb.predict(X_test_bow)\n",
    "mnb_accuracy = round(accuracy_score(y_test,y_pred),4)\n",
    "mnb_precision = round(precision_score(y_test,y_pred,average='weighted'),4)\n",
    "mnb_recall = round(recall_score(y_test,y_pred,average='weighted'),4)\n",
    "mnb_f1_score = round(f1_score(y_test,y_pred,average='weighted'),4)\n",
    "print(\" Accuracy\", mnb_accuracy)\n",
    "print(\" Precision\",mnb_precision,\"\\n\",\"Recall\",mnb_recall,\"\\n\",\"F1\",mnb_f1_score)\n",
    "\n",
    "# #Confusion Matrix\n",
    "# mnb_tn, mnb_fp, mnb_fn, mnb_tp = confusion_matrix(y_test, y_pred).ravel()\n",
    "\n",
    "# #measurements\n",
    "# mnb_accuracy = (mnb_tp+mnb_tn)/(mnb_tp+mnb_tn+mnb_fp+mnb_fn)\n",
    "# print(\" Accuracy\", mnb_accuracy)\n",
    "# mnb_precision = mnb_tp/(mnb_tp+mnb_fp)\n",
    "# mnb_recall = mnb_tp/(mnb_tp+mnb_fn)\n",
    "# mnb_f1_score = (2*mnb_precision)*(mnb_recall)/(mnb_precision+mnb_recall)\n",
    "# print(\" Precision\",mnb_precision,\"\\n\",\"Recall\",mnb_recall,\"\\n\",\"F1\",mnb_f1_score)"
   ]
  },
  {
   "cell_type": "code",
   "execution_count": 27,
   "id": "e3f9febb",
   "metadata": {},
   "outputs": [],
   "source": [
    "import pickle\n",
    "# save the model to disk\n",
    "filename = 'multinomialNB_emotions.pkl'\n",
    "pickle.dump(mnb, open(filename, 'wb'))"
   ]
  },
  {
   "cell_type": "code",
   "execution_count": 28,
   "id": "30602189",
   "metadata": {},
   "outputs": [
    {
     "data": {
      "text/plain": [
       "469"
      ]
     },
     "execution_count": 28,
     "metadata": {},
     "output_type": "execute_result"
    }
   ],
   "source": [
    "import gc\n",
    "del mnb\n",
    "gc.collect()"
   ]
  },
  {
   "attachments": {},
   "cell_type": "markdown",
   "id": "8f0f9451",
   "metadata": {},
   "source": [
    "## Linear SVC"
   ]
  },
  {
   "cell_type": "code",
   "execution_count": 29,
   "id": "08f46cef",
   "metadata": {},
   "outputs": [
    {
     "data": {
      "text/plain": [
       "LinearSVC(random_state=7)"
      ]
     },
     "execution_count": 29,
     "metadata": {},
     "output_type": "execute_result"
    }
   ],
   "source": [
    "from sklearn.svm import LinearSVC\n",
    "svc=LinearSVC(random_state=7)\n",
    "svc.fit(X_train_bow, y_train)"
   ]
  },
  {
   "cell_type": "code",
   "execution_count": 30,
   "id": "7636ed18",
   "metadata": {},
   "outputs": [
    {
     "name": "stdout",
     "output_type": "stream",
     "text": [
      " Accuracy 0.4914\n",
      " Precision 0.4699 \n",
      " Recall 0.4914 \n",
      " F1 0.4782\n"
     ]
    }
   ],
   "source": [
    "from sklearn.metrics import accuracy_score,confusion_matrix,f1_score, precision_score, recall_score\n",
    "y_pred = svc.predict(X_test_bow)\n",
    "svc_accuracy = round(accuracy_score(y_test,y_pred),4)\n",
    "svc_precision = round(precision_score(y_test,y_pred,average='weighted'),4)\n",
    "svc_recall = round(recall_score(y_test,y_pred,average='weighted'),4)\n",
    "svc_f1_score = round(f1_score(y_test,y_pred,average='weighted'),4)\n",
    "print(\" Accuracy\", svc_accuracy)\n",
    "print(\" Precision\",svc_precision,\"\\n\",\"Recall\",svc_recall,\"\\n\",\"F1\",svc_f1_score)"
   ]
  },
  {
   "cell_type": "code",
   "execution_count": 32,
   "id": "cff81e63",
   "metadata": {},
   "outputs": [],
   "source": [
    "import pickle\n",
    "# save the model to disk\n",
    "filename = 'linear_svc_emotions.pkl'\n",
    "pickle.dump(svc, open(filename, 'wb'))"
   ]
  },
  {
   "attachments": {},
   "cell_type": "markdown",
   "id": "ed7b90b0",
   "metadata": {},
   "source": [
    "## Results"
   ]
  },
  {
   "cell_type": "code",
   "execution_count": 1,
   "id": "03fb345e",
   "metadata": {},
   "outputs": [],
   "source": [
    "# metric_data = [[\"Logistic Regression (OVR)\", lr_ovr_accuracy, lr_ovr_precision, lr_ovr_recall, lr_ovr_f1_score], [\"Logistic Regression (Multinomial)\", lr_mn_accuracy, lr_mn_precision, lr_mn_recall, lr_mn_f1_score], [\"Multinomial Naive Bayes\", mnb_accuracy, mnb_precision, mnb_recall, mnb_f1_score]]\n",
    "# res_df = pd.DataFrame(metric_data, columns=['Classifier', 'Accuracy Score', 'Precision', 'Recall', 'F-Measure'])\n",
    "# res_df"
   ]
  }
 ],
 "metadata": {
  "kernelspec": {
   "display_name": "Python 3.10.2 64-bit",
   "language": "python",
   "name": "python3"
  },
  "language_info": {
   "codemirror_mode": {
    "name": "ipython",
    "version": 3
   },
   "file_extension": ".py",
   "mimetype": "text/x-python",
   "name": "python",
   "nbconvert_exporter": "python",
   "pygments_lexer": "ipython3",
   "version": "3.10.2"
  },
  "vscode": {
   "interpreter": {
    "hash": "54b5c02bac415170f398c1cb9c40d2712252a7d195ee8eb19ed147dda00b9728"
   }
  }
 },
 "nbformat": 4,
 "nbformat_minor": 5
}
